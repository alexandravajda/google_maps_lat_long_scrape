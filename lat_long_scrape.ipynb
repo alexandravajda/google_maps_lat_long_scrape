{
 "cells": [
  {
   "cell_type": "code",
   "execution_count": 58,
   "id": "697a8f50",
   "metadata": {},
   "outputs": [],
   "source": [
    "import pandas as pd\n",
    "import time\n",
    "from selenium import webdriver\n",
    "from webdriver_manager.chrome import ChromeDriverManager\n",
    "from selenium.webdriver.common.by import By\n",
    "from tqdm import tqdm_notebook as tqdmn\n",
    "import folium\n",
    "\n",
    "\n",
    "from selenium.webdriver.common.by import By\n",
    "from selenium.webdriver.support.ui import WebDriverWait\n",
    "from selenium.webdriver.support import expected_conditions as EC\n",
    "from selenium.webdriver.chrome.options import Options"
   ]
  },
  {
   "cell_type": "code",
   "execution_count": 53,
   "id": "0c87a97c",
   "metadata": {
    "scrolled": true
   },
   "outputs": [
    {
     "data": {
      "text/html": [
       "<style>.dataframe th{background: rgb(63,87,124);background: linear-gradient(180deg, rgba(63,87,124,1) 0%, rgba(101,124,161,1) 100%, rgba(0,212,255,1) 100%);;\n",
       "padding: 10px;font-family: monospace;font-size: 110%;color: white;border:1px dashed white;text-align:left !important;\n",
       "-moz-border-radius: 3x;-webkit-border-radius: 3px;}.dataframe thead{border:none; !important;}</style>\n"
      ],
      "text/plain": [
       "<IPython.core.display.HTML object>"
      ]
     },
     "metadata": {},
     "output_type": "display_data"
    }
   ],
   "source": [
    "%%HTML\n",
    "<style>.dataframe th{background: rgb(63,87,124);background: linear-gradient(180deg, rgba(63,87,124,1) 0%, rgba(101,124,161,1) 100%, rgba(0,212,255,1) 100%);;\n",
    "padding: 10px;font-family: monospace;font-size: 110%;color: white;border:1px dashed white;text-align:left !important;\n",
    "-moz-border-radius: 3x;-webkit-border-radius: 3px;}.dataframe thead{border:none; !important;}</style>"
   ]
  },
  {
   "cell_type": "code",
   "execution_count": 12,
   "id": "e2ee1080",
   "metadata": {},
   "outputs": [],
   "source": [
    "data = pd.read_csv('/Users/vajdaalexandra/web_scrape_practice/coastal_towns.csv') "
   ]
  },
  {
   "cell_type": "code",
   "execution_count": 14,
   "id": "e6057c32",
   "metadata": {},
   "outputs": [
    {
     "data": {
      "text/plain": [
       "169"
      ]
     },
     "execution_count": 14,
     "metadata": {},
     "output_type": "execute_result"
    }
   ],
   "source": [
    "data['town'].count()"
   ]
  },
  {
   "cell_type": "code",
   "execution_count": 16,
   "id": "538bd6bf",
   "metadata": {},
   "outputs": [
    {
     "data": {
      "text/plain": [
       "0"
      ]
     },
     "execution_count": 16,
     "metadata": {},
     "output_type": "execute_result"
    }
   ],
   "source": [
    "data['town'].isna().sum()"
   ]
  },
  {
   "cell_type": "code",
   "execution_count": 20,
   "id": "2c0691d0",
   "metadata": {},
   "outputs": [
    {
     "data": {
      "text/plain": [
       "South East                  40\n",
       "South West                  39\n",
       "Wales                       23\n",
       "North West                  21\n",
       "North East                  17\n",
       "East of England             16\n",
       "Yorkshire and The Humber    11\n",
       "East Midlands                2\n",
       "Name: region, dtype: int64"
      ]
     },
     "execution_count": 20,
     "metadata": {},
     "output_type": "execute_result"
    }
   ],
   "source": [
    "data.region.value_counts()"
   ]
  },
  {
   "cell_type": "code",
   "execution_count": 21,
   "id": "f597d5cd",
   "metadata": {},
   "outputs": [],
   "source": [
    "data['Url'] = ['https://www.google.com/maps/search/' + i for i in data['town'] ]"
   ]
  },
  {
   "cell_type": "code",
   "execution_count": 22,
   "id": "6ee52ccd",
   "metadata": {},
   "outputs": [
    {
     "data": {
      "text/html": [
       "<div>\n",
       "<style scoped>\n",
       "    .dataframe tbody tr th:only-of-type {\n",
       "        vertical-align: middle;\n",
       "    }\n",
       "\n",
       "    .dataframe tbody tr th {\n",
       "        vertical-align: top;\n",
       "    }\n",
       "\n",
       "    .dataframe thead th {\n",
       "        text-align: right;\n",
       "    }\n",
       "</style>\n",
       "<table border=\"1\" class=\"dataframe\">\n",
       "  <thead>\n",
       "    <tr style=\"text-align: right;\">\n",
       "      <th></th>\n",
       "      <th>town</th>\n",
       "      <th>region</th>\n",
       "      <th>Url</th>\n",
       "    </tr>\n",
       "  </thead>\n",
       "  <tbody>\n",
       "    <tr>\n",
       "      <th>0</th>\n",
       "      <td>Abergele</td>\n",
       "      <td>Wales</td>\n",
       "      <td>https://www.google.com/maps/search/Abergele</td>\n",
       "    </tr>\n",
       "    <tr>\n",
       "      <th>1</th>\n",
       "      <td>Aberystwyth</td>\n",
       "      <td>Wales</td>\n",
       "      <td>https://www.google.com/maps/search/Aberystwyth</td>\n",
       "    </tr>\n",
       "    <tr>\n",
       "      <th>2</th>\n",
       "      <td>Amble</td>\n",
       "      <td>North East</td>\n",
       "      <td>https://www.google.com/maps/search/Amble</td>\n",
       "    </tr>\n",
       "    <tr>\n",
       "      <th>3</th>\n",
       "      <td>Ashington (Northumberland)</td>\n",
       "      <td>North East</td>\n",
       "      <td>https://www.google.com/maps/search/Ashington (...</td>\n",
       "    </tr>\n",
       "    <tr>\n",
       "      <th>4</th>\n",
       "      <td>Bangor</td>\n",
       "      <td>Wales</td>\n",
       "      <td>https://www.google.com/maps/search/Bangor</td>\n",
       "    </tr>\n",
       "  </tbody>\n",
       "</table>\n",
       "</div>"
      ],
      "text/plain": [
       "                          town      region  \\\n",
       "0                    Abergele        Wales   \n",
       "1                 Aberystwyth        Wales   \n",
       "2                       Amble   North East   \n",
       "3  Ashington (Northumberland)   North East   \n",
       "4                      Bangor        Wales   \n",
       "\n",
       "                                                 Url  \n",
       "0       https://www.google.com/maps/search/Abergele   \n",
       "1    https://www.google.com/maps/search/Aberystwyth   \n",
       "2          https://www.google.com/maps/search/Amble   \n",
       "3  https://www.google.com/maps/search/Ashington (...  \n",
       "4         https://www.google.com/maps/search/Bangor   "
      ]
     },
     "execution_count": 22,
     "metadata": {},
     "output_type": "execute_result"
    }
   ],
   "source": [
    "data.head()"
   ]
  },
  {
   "cell_type": "code",
   "execution_count": 75,
   "id": "58a640aa",
   "metadata": {},
   "outputs": [
    {
     "name": "stderr",
     "output_type": "stream",
     "text": [
      "/var/folders/8g/nkh_nv_j2p363bdmfhmjg31h0000gn/T/ipykernel_65344/1891314532.py:7: DeprecationWarning: executable_path has been deprecated, please pass in a Service object\n",
      "  driver = webdriver.Chrome(ChromeDriverManager().install())\n",
      "/var/folders/8g/nkh_nv_j2p363bdmfhmjg31h0000gn/T/ipykernel_65344/1891314532.py:11: TqdmDeprecationWarning: This function will be removed in tqdm==5.0.0\n",
      "Please use `tqdm.notebook.tqdm` instead of `tqdm.tqdm_notebook`\n",
      "  for url in tqdmn(data.Url, leave=False):\n"
     ]
    },
    {
     "data": {
      "application/vnd.jupyter.widget-view+json": {
       "model_id": "",
       "version_major": 2,
       "version_minor": 0
      },
      "text/plain": [
       "  0%|          | 0/169 [00:00<?, ?it/s]"
      ]
     },
     "metadata": {},
     "output_type": "display_data"
    }
   ],
   "source": [
    "Url_With_Coordinates = []\n",
    "\n",
    "option = webdriver.ChromeOptions()\n",
    "prefs = {'profile.default_content_setting_values': {'images':2, 'javascript':2}}\n",
    "option.add_experimental_option('prefs', prefs)\n",
    "\n",
    "driver = webdriver.Chrome(ChromeDriverManager().install())\n",
    "driver.implicitly_wait(5)\n",
    "\n",
    "\n",
    "for url in tqdmn(data.Url, leave=False):\n",
    "    driver.get(url)\n",
    "    try:\n",
    "        driver.find_element(By.XPATH, '//*[@id=\"yDmH0d\"]/c-wiz/div/div/div/div[2]/div[1]/div[3]/div[1]/div[1]/form[2]/div/div/button/span').click()\n",
    "        Url_With_Coordinates.append(driver.find_element(\"css selector\",'meta[itemprop=image]').get_attribute('content'))\n",
    "    except Exception as e:\n",
    "        Url_With_Coordinates.append(driver.find_element(\"css selector\",'meta[itemprop=image]').get_attribute('content'))\n",
    "    \n",
    "driver.close()\n",
    "\n",
    "import csv\n",
    "\n",
    "with open('Url_With_Coordinates.csv', 'w') as file:\n",
    "    wr = csv.writer(file)\n",
    "    wr.writerow(Url_With_Coordinates)"
   ]
  },
  {
   "cell_type": "code",
   "execution_count": 76,
   "id": "372845fd",
   "metadata": {},
   "outputs": [],
   "source": [
    "import csv\n",
    "\n",
    "with open('Url_With_Coordinates.csv', 'r') as f:\n",
    "    reader = csv.reader(f, delimiter=',')\n",
    "    for i in reader:\n",
    "        Url_With_Coordinates = i\n",
    "        break"
   ]
  },
  {
   "cell_type": "code",
   "execution_count": 77,
   "id": "b5f1c309",
   "metadata": {},
   "outputs": [
    {
     "data": {
      "text/plain": [
       "['https://maps.google.com/maps/api/staticmap?center=53.2805771%2C-3.58515465&zoom=14&size=256x256&language=en&sensor=false&client=google-maps-frontend&signature=LUrEb7R2OOZ_G0EYKx4PV5vxZE4',\n",
       " 'https://maps.google.com/maps/api/staticmap?center=52.41446825%2C-4.07764075&zoom=14&size=256x256&language=en&sensor=false&client=google-maps-frontend&signature=1HHWCEtvmbmH5L6XE-h0PMU4SSg',\n",
       " 'https://maps.google.com/maps/api/staticmap?center=55.33117155%2C-1.58320405&zoom=15&size=256x256&language=en&sensor=false&client=google-maps-frontend&signature=Hekrb2ZZ7wbw1rcKPYzT-7w4JLg',\n",
       " 'https://maps.google.com/maps/api/staticmap?center=55.18359245%2C-1.5907947&zoom=13&size=256x256&language=en&sensor=false&client=google-maps-frontend&signature=bU3EMl8HiG9NrgNRdflBsoHEMOo',\n",
       " 'https://maps.google.com/maps/api/staticmap?center=53.22094405%2C-4.1426898&zoom=14&size=256x256&language=en&sensor=false&client=google-maps-frontend&signature=t171kHY24swRyOy1zQFjoRK-bzg']"
      ]
     },
     "execution_count": 77,
     "metadata": {},
     "output_type": "execute_result"
    }
   ],
   "source": [
    "Url_With_Coordinates[:5]"
   ]
  },
  {
   "cell_type": "code",
   "execution_count": 78,
   "id": "be5d1884",
   "metadata": {},
   "outputs": [],
   "source": [
    "data['Url_With_Coordinates'] = Url_With_Coordinates"
   ]
  },
  {
   "cell_type": "code",
   "execution_count": 79,
   "id": "349d8cd1",
   "metadata": {},
   "outputs": [
    {
     "data": {
      "text/html": [
       "<div>\n",
       "<style scoped>\n",
       "    .dataframe tbody tr th:only-of-type {\n",
       "        vertical-align: middle;\n",
       "    }\n",
       "\n",
       "    .dataframe tbody tr th {\n",
       "        vertical-align: top;\n",
       "    }\n",
       "\n",
       "    .dataframe thead th {\n",
       "        text-align: right;\n",
       "    }\n",
       "</style>\n",
       "<table border=\"1\" class=\"dataframe\">\n",
       "  <thead>\n",
       "    <tr style=\"text-align: right;\">\n",
       "      <th></th>\n",
       "      <th>town</th>\n",
       "      <th>region</th>\n",
       "      <th>Url</th>\n",
       "      <th>Url_With_Coordinates</th>\n",
       "    </tr>\n",
       "  </thead>\n",
       "  <tbody>\n",
       "    <tr>\n",
       "      <th>0</th>\n",
       "      <td>Abergele</td>\n",
       "      <td>Wales</td>\n",
       "      <td>https://www.google.com/maps/search/Abergele</td>\n",
       "      <td>https://maps.google.com/maps/api/staticmap?cen...</td>\n",
       "    </tr>\n",
       "    <tr>\n",
       "      <th>1</th>\n",
       "      <td>Aberystwyth</td>\n",
       "      <td>Wales</td>\n",
       "      <td>https://www.google.com/maps/search/Aberystwyth</td>\n",
       "      <td>https://maps.google.com/maps/api/staticmap?cen...</td>\n",
       "    </tr>\n",
       "    <tr>\n",
       "      <th>2</th>\n",
       "      <td>Amble</td>\n",
       "      <td>North East</td>\n",
       "      <td>https://www.google.com/maps/search/Amble</td>\n",
       "      <td>https://maps.google.com/maps/api/staticmap?cen...</td>\n",
       "    </tr>\n",
       "    <tr>\n",
       "      <th>3</th>\n",
       "      <td>Ashington (Northumberland)</td>\n",
       "      <td>North East</td>\n",
       "      <td>https://www.google.com/maps/search/Ashington (...</td>\n",
       "      <td>https://maps.google.com/maps/api/staticmap?cen...</td>\n",
       "    </tr>\n",
       "    <tr>\n",
       "      <th>4</th>\n",
       "      <td>Bangor</td>\n",
       "      <td>Wales</td>\n",
       "      <td>https://www.google.com/maps/search/Bangor</td>\n",
       "      <td>https://maps.google.com/maps/api/staticmap?cen...</td>\n",
       "    </tr>\n",
       "  </tbody>\n",
       "</table>\n",
       "</div>"
      ],
      "text/plain": [
       "                          town      region  \\\n",
       "0                    Abergele        Wales   \n",
       "1                 Aberystwyth        Wales   \n",
       "2                       Amble   North East   \n",
       "3  Ashington (Northumberland)   North East   \n",
       "4                      Bangor        Wales   \n",
       "\n",
       "                                                 Url  \\\n",
       "0       https://www.google.com/maps/search/Abergele    \n",
       "1    https://www.google.com/maps/search/Aberystwyth    \n",
       "2          https://www.google.com/maps/search/Amble    \n",
       "3  https://www.google.com/maps/search/Ashington (...   \n",
       "4         https://www.google.com/maps/search/Bangor    \n",
       "\n",
       "                                Url_With_Coordinates  \n",
       "0  https://maps.google.com/maps/api/staticmap?cen...  \n",
       "1  https://maps.google.com/maps/api/staticmap?cen...  \n",
       "2  https://maps.google.com/maps/api/staticmap?cen...  \n",
       "3  https://maps.google.com/maps/api/staticmap?cen...  \n",
       "4  https://maps.google.com/maps/api/staticmap?cen...  "
      ]
     },
     "execution_count": 79,
     "metadata": {},
     "output_type": "execute_result"
    }
   ],
   "source": [
    "data.head()"
   ]
  },
  {
   "cell_type": "code",
   "execution_count": null,
   "id": "b051dd62",
   "metadata": {},
   "outputs": [],
   "source": [
    "list(data[~data.Url_With_Coordinates.str.contains('&zoom=')].Url_With_Coordinates)"
   ]
  },
  {
   "cell_type": "code",
   "execution_count": 82,
   "id": "47d0e1d9",
   "metadata": {},
   "outputs": [],
   "source": [
    "# remove those URLs with zoom in them\n",
    "data = data[data.Url_With_Coordinates.str.contains('&zoom=')].copy()"
   ]
  },
  {
   "cell_type": "code",
   "execution_count": 83,
   "id": "d092374a",
   "metadata": {},
   "outputs": [],
   "source": [
    "# now this works:\n",
    "data['lat'] = [ url.split('?center=')[1].split('&zoom=')[0].split('%2C')[0] for url in data['Url_With_Coordinates'] ]\n",
    "data['long'] = [url.split('?center=')[1].split('&zoom=')[0].split('%2C')[1] for url in data['Url_With_Coordinates'] ]"
   ]
  },
  {
   "cell_type": "code",
   "execution_count": 84,
   "id": "400fbdec",
   "metadata": {},
   "outputs": [
    {
     "data": {
      "text/html": [
       "<div>\n",
       "<style scoped>\n",
       "    .dataframe tbody tr th:only-of-type {\n",
       "        vertical-align: middle;\n",
       "    }\n",
       "\n",
       "    .dataframe tbody tr th {\n",
       "        vertical-align: top;\n",
       "    }\n",
       "\n",
       "    .dataframe thead th {\n",
       "        text-align: right;\n",
       "    }\n",
       "</style>\n",
       "<table border=\"1\" class=\"dataframe\">\n",
       "  <thead>\n",
       "    <tr style=\"text-align: right;\">\n",
       "      <th></th>\n",
       "      <th>town</th>\n",
       "      <th>region</th>\n",
       "      <th>Url</th>\n",
       "      <th>Url_With_Coordinates</th>\n",
       "      <th>lat</th>\n",
       "      <th>long</th>\n",
       "    </tr>\n",
       "  </thead>\n",
       "  <tbody>\n",
       "    <tr>\n",
       "      <th>0</th>\n",
       "      <td>Abergele</td>\n",
       "      <td>Wales</td>\n",
       "      <td>https://www.google.com/maps/search/Abergele</td>\n",
       "      <td>https://maps.google.com/maps/api/staticmap?cen...</td>\n",
       "      <td>53.2805771</td>\n",
       "      <td>-3.58515465</td>\n",
       "    </tr>\n",
       "    <tr>\n",
       "      <th>1</th>\n",
       "      <td>Aberystwyth</td>\n",
       "      <td>Wales</td>\n",
       "      <td>https://www.google.com/maps/search/Aberystwyth</td>\n",
       "      <td>https://maps.google.com/maps/api/staticmap?cen...</td>\n",
       "      <td>52.41446825</td>\n",
       "      <td>-4.07764075</td>\n",
       "    </tr>\n",
       "    <tr>\n",
       "      <th>2</th>\n",
       "      <td>Amble</td>\n",
       "      <td>North East</td>\n",
       "      <td>https://www.google.com/maps/search/Amble</td>\n",
       "      <td>https://maps.google.com/maps/api/staticmap?cen...</td>\n",
       "      <td>55.33117155</td>\n",
       "      <td>-1.58320405</td>\n",
       "    </tr>\n",
       "    <tr>\n",
       "      <th>3</th>\n",
       "      <td>Ashington (Northumberland)</td>\n",
       "      <td>North East</td>\n",
       "      <td>https://www.google.com/maps/search/Ashington (...</td>\n",
       "      <td>https://maps.google.com/maps/api/staticmap?cen...</td>\n",
       "      <td>55.18359245</td>\n",
       "      <td>-1.5907947</td>\n",
       "    </tr>\n",
       "    <tr>\n",
       "      <th>4</th>\n",
       "      <td>Bangor</td>\n",
       "      <td>Wales</td>\n",
       "      <td>https://www.google.com/maps/search/Bangor</td>\n",
       "      <td>https://maps.google.com/maps/api/staticmap?cen...</td>\n",
       "      <td>53.22094405</td>\n",
       "      <td>-4.1426898</td>\n",
       "    </tr>\n",
       "  </tbody>\n",
       "</table>\n",
       "</div>"
      ],
      "text/plain": [
       "                          town      region  \\\n",
       "0                    Abergele        Wales   \n",
       "1                 Aberystwyth        Wales   \n",
       "2                       Amble   North East   \n",
       "3  Ashington (Northumberland)   North East   \n",
       "4                      Bangor        Wales   \n",
       "\n",
       "                                                 Url  \\\n",
       "0       https://www.google.com/maps/search/Abergele    \n",
       "1    https://www.google.com/maps/search/Aberystwyth    \n",
       "2          https://www.google.com/maps/search/Amble    \n",
       "3  https://www.google.com/maps/search/Ashington (...   \n",
       "4         https://www.google.com/maps/search/Bangor    \n",
       "\n",
       "                                Url_With_Coordinates          lat         long  \n",
       "0  https://maps.google.com/maps/api/staticmap?cen...   53.2805771  -3.58515465  \n",
       "1  https://maps.google.com/maps/api/staticmap?cen...  52.41446825  -4.07764075  \n",
       "2  https://maps.google.com/maps/api/staticmap?cen...  55.33117155  -1.58320405  \n",
       "3  https://maps.google.com/maps/api/staticmap?cen...  55.18359245   -1.5907947  \n",
       "4  https://maps.google.com/maps/api/staticmap?cen...  53.22094405   -4.1426898  "
      ]
     },
     "execution_count": 84,
     "metadata": {},
     "output_type": "execute_result"
    }
   ],
   "source": [
    "data.head()"
   ]
  },
  {
   "cell_type": "code",
   "execution_count": 94,
   "id": "98ef2d85",
   "metadata": {},
   "outputs": [],
   "source": [
    "output = data[['town','region','lat','long']]"
   ]
  },
  {
   "cell_type": "code",
   "execution_count": 95,
   "id": "36e407ac",
   "metadata": {},
   "outputs": [
    {
     "data": {
      "text/html": [
       "<div>\n",
       "<style scoped>\n",
       "    .dataframe tbody tr th:only-of-type {\n",
       "        vertical-align: middle;\n",
       "    }\n",
       "\n",
       "    .dataframe tbody tr th {\n",
       "        vertical-align: top;\n",
       "    }\n",
       "\n",
       "    .dataframe thead th {\n",
       "        text-align: right;\n",
       "    }\n",
       "</style>\n",
       "<table border=\"1\" class=\"dataframe\">\n",
       "  <thead>\n",
       "    <tr style=\"text-align: right;\">\n",
       "      <th></th>\n",
       "      <th>town</th>\n",
       "      <th>region</th>\n",
       "      <th>lat</th>\n",
       "      <th>long</th>\n",
       "    </tr>\n",
       "  </thead>\n",
       "  <tbody>\n",
       "    <tr>\n",
       "      <th>0</th>\n",
       "      <td>Abergele</td>\n",
       "      <td>Wales</td>\n",
       "      <td>53.2805771</td>\n",
       "      <td>-3.58515465</td>\n",
       "    </tr>\n",
       "    <tr>\n",
       "      <th>1</th>\n",
       "      <td>Aberystwyth</td>\n",
       "      <td>Wales</td>\n",
       "      <td>52.41446825</td>\n",
       "      <td>-4.07764075</td>\n",
       "    </tr>\n",
       "    <tr>\n",
       "      <th>2</th>\n",
       "      <td>Amble</td>\n",
       "      <td>North East</td>\n",
       "      <td>55.33117155</td>\n",
       "      <td>-1.58320405</td>\n",
       "    </tr>\n",
       "    <tr>\n",
       "      <th>3</th>\n",
       "      <td>Ashington (Northumberland)</td>\n",
       "      <td>North East</td>\n",
       "      <td>55.18359245</td>\n",
       "      <td>-1.5907947</td>\n",
       "    </tr>\n",
       "    <tr>\n",
       "      <th>4</th>\n",
       "      <td>Bangor</td>\n",
       "      <td>Wales</td>\n",
       "      <td>53.22094405</td>\n",
       "      <td>-4.1426898</td>\n",
       "    </tr>\n",
       "  </tbody>\n",
       "</table>\n",
       "</div>"
      ],
      "text/plain": [
       "                          town      region          lat         long\n",
       "0                    Abergele        Wales   53.2805771  -3.58515465\n",
       "1                 Aberystwyth        Wales  52.41446825  -4.07764075\n",
       "2                       Amble   North East  55.33117155  -1.58320405\n",
       "3  Ashington (Northumberland)   North East  55.18359245   -1.5907947\n",
       "4                      Bangor        Wales  53.22094405   -4.1426898"
      ]
     },
     "execution_count": 95,
     "metadata": {},
     "output_type": "execute_result"
    }
   ],
   "source": [
    "output.head()"
   ]
  },
  {
   "cell_type": "code",
   "execution_count": 93,
   "id": "0b3d5737",
   "metadata": {},
   "outputs": [],
   "source": [
    "output.to_csv('output.csv',index=False)"
   ]
  },
  {
   "cell_type": "code",
   "execution_count": 103,
   "id": "1e029fa8",
   "metadata": {},
   "outputs": [
    {
     "data": {
      "text/plain": [
       "region\n",
       "East Midlands                2\n",
       "East of England             16\n",
       "North East                  17\n",
       "North West                  21\n",
       "South East                  39\n",
       "South West                  39\n",
       "Wales                       23\n",
       "Yorkshire and The Humber    11\n",
       "Name: town, dtype: int64"
      ]
     },
     "execution_count": 103,
     "metadata": {},
     "output_type": "execute_result"
    }
   ],
   "source": [
    "output.groupby(['region'])['town'].count()"
   ]
  }
 ],
 "metadata": {
  "kernelspec": {
   "display_name": "Python 3 (ipykernel)",
   "language": "python",
   "name": "python3"
  },
  "language_info": {
   "codemirror_mode": {
    "name": "ipython",
    "version": 3
   },
   "file_extension": ".py",
   "mimetype": "text/x-python",
   "name": "python",
   "nbconvert_exporter": "python",
   "pygments_lexer": "ipython3",
   "version": "3.9.12"
  }
 },
 "nbformat": 4,
 "nbformat_minor": 5
}
